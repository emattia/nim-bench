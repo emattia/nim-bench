{
 "cells": [
  {
   "cell_type": "code",
   "execution_count": 47,
   "id": "cf68ad59-e128-4e8f-bf2b-367602a378ae",
   "metadata": {},
   "outputs": [],
   "source": [
    "import pandas as pd\n",
    "from datetime import datetime\n",
    "import seaborn as sns\n",
    "import matplotlib.pyplot as plt\n",
    "sns.set_theme()"
   ]
  },
  {
   "cell_type": "code",
   "execution_count": 67,
   "id": "753599d1-0d3d-4910-b9b9-51be79951f82",
   "metadata": {},
   "outputs": [],
   "source": [
    "model = \"meta-llama3-8b-instruct\"\n",
    "stats_df = pd.read_csv('data/%s_users_stats.csv' % model)\n",
    "stats_history_df = pd.read_csv('data/%s_users_stats_history.csv' % model)\n",
    "gpu_util_df = pd.read_csv('data/%s_gpu_util.csv' % model)"
   ]
  },
  {
   "cell_type": "code",
   "execution_count": null,
   "id": "a679b48b-5b94-417a-b2da-3862097e2693",
   "metadata": {},
   "outputs": [],
   "source": [
    "stats_df"
   ]
  },
  {
   "cell_type": "code",
   "execution_count": 60,
   "id": "6a2bbf23-4213-49de-bfd8-99c6f9e5a530",
   "metadata": {},
   "outputs": [],
   "source": [
    "stats_history_df['Timestamp'] = stats_history_df['Timestamp'].astype(int)\n",
    "gpu_util_df['Timestamp'] = gpu_util_df['Timestamp'].astype(int)"
   ]
  },
  {
   "cell_type": "code",
   "execution_count": 66,
   "id": "36b3bb77-aca5-4f64-ab4c-fee756b589d5",
   "metadata": {},
   "outputs": [
    {
     "data": {
      "text/html": [
       "<div>\n",
       "<style scoped>\n",
       "    .dataframe tbody tr th:only-of-type {\n",
       "        vertical-align: middle;\n",
       "    }\n",
       "\n",
       "    .dataframe tbody tr th {\n",
       "        vertical-align: top;\n",
       "    }\n",
       "\n",
       "    .dataframe thead th {\n",
       "        text-align: right;\n",
       "    }\n",
       "</style>\n",
       "<table border=\"1\" class=\"dataframe\">\n",
       "  <thead>\n",
       "    <tr style=\"text-align: right;\">\n",
       "      <th></th>\n",
       "      <th>Timestamp</th>\n",
       "      <th>User Count</th>\n",
       "      <th>Type</th>\n",
       "      <th>Name</th>\n",
       "      <th>Requests/s</th>\n",
       "      <th>Failures/s</th>\n",
       "      <th>50%</th>\n",
       "      <th>66%</th>\n",
       "      <th>75%</th>\n",
       "      <th>80%</th>\n",
       "      <th>...</th>\n",
       "      <th>99.9%</th>\n",
       "      <th>99.99%</th>\n",
       "      <th>100%</th>\n",
       "      <th>Total Request Count</th>\n",
       "      <th>Total Failure Count</th>\n",
       "      <th>Total Median Response Time</th>\n",
       "      <th>Total Average Response Time</th>\n",
       "      <th>Total Min Response Time</th>\n",
       "      <th>Total Max Response Time</th>\n",
       "      <th>Total Average Content Size</th>\n",
       "    </tr>\n",
       "  </thead>\n",
       "  <tbody>\n",
       "    <tr>\n",
       "      <th>0</th>\n",
       "      <td>1717038617</td>\n",
       "      <td>0</td>\n",
       "      <td>NaN</td>\n",
       "      <td>Aggregated</td>\n",
       "      <td>0.0</td>\n",
       "      <td>0.0</td>\n",
       "      <td>NaN</td>\n",
       "      <td>NaN</td>\n",
       "      <td>NaN</td>\n",
       "      <td>NaN</td>\n",
       "      <td>...</td>\n",
       "      <td>NaN</td>\n",
       "      <td>NaN</td>\n",
       "      <td>NaN</td>\n",
       "      <td>0</td>\n",
       "      <td>0</td>\n",
       "      <td>0</td>\n",
       "      <td>0.0</td>\n",
       "      <td>0</td>\n",
       "      <td>0</td>\n",
       "      <td>0</td>\n",
       "    </tr>\n",
       "  </tbody>\n",
       "</table>\n",
       "<p>1 rows × 24 columns</p>\n",
       "</div>"
      ],
      "text/plain": [
       "    Timestamp  User Count  Type        Name  Requests/s  Failures/s  50%  66%  \\\n",
       "0  1717038617           0   NaN  Aggregated         0.0         0.0  NaN  NaN   \n",
       "\n",
       "   75%  80%  ...  99.9%  99.99%  100%  Total Request Count  \\\n",
       "0  NaN  NaN  ...    NaN     NaN   NaN                    0   \n",
       "\n",
       "   Total Failure Count  Total Median Response Time  \\\n",
       "0                    0                           0   \n",
       "\n",
       "   Total Average Response Time  Total Min Response Time  \\\n",
       "0                          0.0                        0   \n",
       "\n",
       "   Total Max Response Time  Total Average Content Size  \n",
       "0                        0                           0  \n",
       "\n",
       "[1 rows x 24 columns]"
      ]
     },
     "execution_count": 66,
     "metadata": {},
     "output_type": "execute_result"
    }
   ],
   "source": [
    "stats_history_df"
   ]
  },
  {
   "cell_type": "code",
   "execution_count": 65,
   "id": "a679f945-2823-4211-b421-35ca983fc97f",
   "metadata": {},
   "outputs": [
    {
     "data": {
      "text/html": [
       "<div>\n",
       "<style scoped>\n",
       "    .dataframe tbody tr th:only-of-type {\n",
       "        vertical-align: middle;\n",
       "    }\n",
       "\n",
       "    .dataframe tbody tr th {\n",
       "        vertical-align: top;\n",
       "    }\n",
       "\n",
       "    .dataframe thead th {\n",
       "        text-align: right;\n",
       "    }\n",
       "</style>\n",
       "<table border=\"1\" class=\"dataframe\">\n",
       "  <thead>\n",
       "    <tr style=\"text-align: right;\">\n",
       "      <th></th>\n",
       "      <th>Timestamp</th>\n",
       "      <th>GPU Utilization (%)</th>\n",
       "      <th>GPU Memory Utilization (%)</th>\n",
       "    </tr>\n",
       "  </thead>\n",
       "  <tbody>\n",
       "    <tr>\n",
       "      <th>0</th>\n",
       "      <td>1717038617</td>\n",
       "      <td>0</td>\n",
       "      <td>0</td>\n",
       "    </tr>\n",
       "    <tr>\n",
       "      <th>1</th>\n",
       "      <td>1717038618</td>\n",
       "      <td>84</td>\n",
       "      <td>74</td>\n",
       "    </tr>\n",
       "    <tr>\n",
       "      <th>2</th>\n",
       "      <td>1717038619</td>\n",
       "      <td>55</td>\n",
       "      <td>46</td>\n",
       "    </tr>\n",
       "    <tr>\n",
       "      <th>3</th>\n",
       "      <td>1717038620</td>\n",
       "      <td>70</td>\n",
       "      <td>58</td>\n",
       "    </tr>\n",
       "    <tr>\n",
       "      <th>4</th>\n",
       "      <td>1717038621</td>\n",
       "      <td>72</td>\n",
       "      <td>59</td>\n",
       "    </tr>\n",
       "    <tr>\n",
       "      <th>...</th>\n",
       "      <td>...</td>\n",
       "      <td>...</td>\n",
       "      <td>...</td>\n",
       "    </tr>\n",
       "    <tr>\n",
       "      <th>301</th>\n",
       "      <td>1717038935</td>\n",
       "      <td>0</td>\n",
       "      <td>0</td>\n",
       "    </tr>\n",
       "    <tr>\n",
       "      <th>302</th>\n",
       "      <td>1717038936</td>\n",
       "      <td>0</td>\n",
       "      <td>0</td>\n",
       "    </tr>\n",
       "    <tr>\n",
       "      <th>303</th>\n",
       "      <td>1717038937</td>\n",
       "      <td>0</td>\n",
       "      <td>0</td>\n",
       "    </tr>\n",
       "    <tr>\n",
       "      <th>304</th>\n",
       "      <td>1717038938</td>\n",
       "      <td>0</td>\n",
       "      <td>0</td>\n",
       "    </tr>\n",
       "    <tr>\n",
       "      <th>305</th>\n",
       "      <td>1717038939</td>\n",
       "      <td>0</td>\n",
       "      <td>0</td>\n",
       "    </tr>\n",
       "  </tbody>\n",
       "</table>\n",
       "<p>306 rows × 3 columns</p>\n",
       "</div>"
      ],
      "text/plain": [
       "      Timestamp  GPU Utilization (%)  GPU Memory Utilization (%)\n",
       "0    1717038617                    0                           0\n",
       "1    1717038618                   84                          74\n",
       "2    1717038619                   55                          46\n",
       "3    1717038620                   70                          58\n",
       "4    1717038621                   72                          59\n",
       "..          ...                  ...                         ...\n",
       "301  1717038935                    0                           0\n",
       "302  1717038936                    0                           0\n",
       "303  1717038937                    0                           0\n",
       "304  1717038938                    0                           0\n",
       "305  1717038939                    0                           0\n",
       "\n",
       "[306 rows x 3 columns]"
      ]
     },
     "execution_count": 65,
     "metadata": {},
     "output_type": "execute_result"
    }
   ],
   "source": [
    "gpu_util_df"
   ]
  },
  {
   "cell_type": "code",
   "execution_count": 63,
   "id": "0f024da6-c014-48dd-a777-0204c98e7062",
   "metadata": {},
   "outputs": [],
   "source": [
    "merged_data = pd.merge_asof(stats_history_df.sort_values('Timestamp'),\n",
    "                            gpu_util_df.sort_values('Timestamp'),\n",
    "                            on='Timestamp',\n",
    "                            direction='nearest')\n",
    "merged_data['Timestamp'] = merged_data['Timestamp'] - merged_data['Timestamp'][0]"
   ]
  },
  {
   "cell_type": "code",
   "execution_count": 64,
   "id": "3ffc721f-64f3-4125-a9e5-aa0faf43b985",
   "metadata": {},
   "outputs": [
    {
     "data": {
      "text/html": [
       "<div>\n",
       "<style scoped>\n",
       "    .dataframe tbody tr th:only-of-type {\n",
       "        vertical-align: middle;\n",
       "    }\n",
       "\n",
       "    .dataframe tbody tr th {\n",
       "        vertical-align: top;\n",
       "    }\n",
       "\n",
       "    .dataframe thead th {\n",
       "        text-align: right;\n",
       "    }\n",
       "</style>\n",
       "<table border=\"1\" class=\"dataframe\">\n",
       "  <thead>\n",
       "    <tr style=\"text-align: right;\">\n",
       "      <th></th>\n",
       "      <th>Timestamp</th>\n",
       "      <th>User Count</th>\n",
       "      <th>Type</th>\n",
       "      <th>Name</th>\n",
       "      <th>Requests/s</th>\n",
       "      <th>Failures/s</th>\n",
       "      <th>50%</th>\n",
       "      <th>66%</th>\n",
       "      <th>75%</th>\n",
       "      <th>80%</th>\n",
       "      <th>...</th>\n",
       "      <th>100%</th>\n",
       "      <th>Total Request Count</th>\n",
       "      <th>Total Failure Count</th>\n",
       "      <th>Total Median Response Time</th>\n",
       "      <th>Total Average Response Time</th>\n",
       "      <th>Total Min Response Time</th>\n",
       "      <th>Total Max Response Time</th>\n",
       "      <th>Total Average Content Size</th>\n",
       "      <th>GPU Utilization (%)</th>\n",
       "      <th>GPU Memory Utilization (%)</th>\n",
       "    </tr>\n",
       "  </thead>\n",
       "  <tbody>\n",
       "    <tr>\n",
       "      <th>0</th>\n",
       "      <td>0</td>\n",
       "      <td>0</td>\n",
       "      <td>NaN</td>\n",
       "      <td>Aggregated</td>\n",
       "      <td>0.0</td>\n",
       "      <td>0.0</td>\n",
       "      <td>NaN</td>\n",
       "      <td>NaN</td>\n",
       "      <td>NaN</td>\n",
       "      <td>NaN</td>\n",
       "      <td>...</td>\n",
       "      <td>NaN</td>\n",
       "      <td>0</td>\n",
       "      <td>0</td>\n",
       "      <td>0</td>\n",
       "      <td>0.0</td>\n",
       "      <td>0</td>\n",
       "      <td>0</td>\n",
       "      <td>0</td>\n",
       "      <td>0</td>\n",
       "      <td>0</td>\n",
       "    </tr>\n",
       "  </tbody>\n",
       "</table>\n",
       "<p>1 rows × 26 columns</p>\n",
       "</div>"
      ],
      "text/plain": [
       "   Timestamp  User Count  Type        Name  Requests/s  Failures/s  50%  66%  \\\n",
       "0          0           0   NaN  Aggregated         0.0         0.0  NaN  NaN   \n",
       "\n",
       "   75%  80%  ...  100%  Total Request Count  Total Failure Count  \\\n",
       "0  NaN  NaN  ...   NaN                    0                    0   \n",
       "\n",
       "   Total Median Response Time  Total Average Response Time  \\\n",
       "0                           0                          0.0   \n",
       "\n",
       "   Total Min Response Time  Total Max Response Time  \\\n",
       "0                        0                        0   \n",
       "\n",
       "   Total Average Content Size  GPU Utilization (%)  GPU Memory Utilization (%)  \n",
       "0                           0                    0                           0  \n",
       "\n",
       "[1 rows x 26 columns]"
      ]
     },
     "execution_count": 64,
     "metadata": {},
     "output_type": "execute_result"
    }
   ],
   "source": [
    "merged_data"
   ]
  },
  {
   "cell_type": "code",
   "execution_count": 35,
   "id": "0e2431cf-724d-4938-8c68-4d28addea481",
   "metadata": {},
   "outputs": [
    {
     "data": {
      "text/plain": [
       "Index(['Timestamp', 'User Count', 'Type', 'Name', 'Requests/s', 'Failures/s',\n",
       "       '50%', '66%', '75%', '80%', '90%', '95%', '98%', '99%', '99.9%',\n",
       "       '99.99%', '100%', 'Total Request Count', 'Total Failure Count',\n",
       "       'Total Median Response Time', 'Total Average Response Time',\n",
       "       'Total Min Response Time', 'Total Max Response Time',\n",
       "       'Total Average Content Size', 'GPU Utilization (%)'],\n",
       "      dtype='object')"
      ]
     },
     "execution_count": 35,
     "metadata": {},
     "output_type": "execute_result"
    }
   ],
   "source": [
    "merged_data.columns"
   ]
  },
  {
   "cell_type": "code",
   "execution_count": 42,
   "id": "b2dcfe75-a1fb-482c-af04-4a4d2852babe",
   "metadata": {},
   "outputs": [
    {
     "data": {
      "image/png": "[encoded data removed]",
      "text/plain": [
       "<Figure size 864x432 with 2 Axes>"
      ]
     },
     "metadata": {},
     "output_type": "display_data"
    }
   ],
   "source": [
    "fig, axs = plt.subplot_mosaic([\n",
    "    ['response_time'],\n",
    "    ['utilization'],\n",
    "], layout='constrained', figsize=(18,8))\n",
    "\n",
    "axs['response_time'].set_title('Response time (ms)')\n",
    "axs['response_time'].plot(merged_data['Timestamp'], merged_data['50%'], color='b', alpha=.5, label='50th percentile')\n",
    "axs['response_time'].plot(merged_data['Timestamp'], merged_data['75%'], color='b', alpha=.75, label='75th percentile')\n",
    "axs['response_time'].plot(merged_data['Timestamp'], merged_data['90%'], color='b', alpha=.9, label='90th percentile')\n",
    "axs['response_time'].plot(merged_data['Timestamp'], merged_data['99%'], color='b', alpha=.99, label='99th percentile')\n",
    "axs['response_time'].plot(merged_data['Timestamp'], merged_data['Total Average Response Time'], color='k', alpha=1, label='Total Average Response Time')\n",
    "axs['response_time'].legend()\n",
    "axs['response_time'].set_xticks([])\n",
    "axs['utilization'].plot(merged_data['Timestamp'], merged_data['GPU Utilization (%)'], c='r', label='GPU core utilization')\n",
    "ax_memory = axs['utilization'].twinx()\n",
    "ax_memory.plot(merged_data['Timestamp'], merged_data['GPU Memory Utilization (%)'], c='r', label='GPU memory utilization')\n",
    "axs['utilization'].legend()\n",
    "axs['utilization'].legend()\n",
    "axs['utilization'].set_ylabel('Seconds since sim start');\n",
    "axs['utilization'].set_xlabel('Seconds since sim start');"
   ]
  },
  {
   "cell_type": "code",
   "execution_count": null,
   "id": "e3ae54ba-018a-47b9-89fe-86dcce670694",
   "metadata": {},
   "outputs": [],
   "source": []
  }
 ],
 "metadata": {
  "kernelspec": {
   "display_name": "Python 3 (ipykernel)",
   "language": "python",
   "name": "python3"
  },
  "language_info": {
   "codemirror_mode": {
    "name": "ipython",
    "version": 3
   },
   "file_extension": ".py",
   "mimetype": "text/x-python",
   "name": "python",
   "nbconvert_exporter": "python",
   "pygments_lexer": "ipython3",
   "version": "3.10.12"
  }
 },
 "nbformat": 4,
 "nbformat_minor": 5
}
