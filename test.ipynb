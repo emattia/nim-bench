{
 "cells": [
  {
   "cell_type": "markdown",
   "id": "24e84786-e765-40e2-aae2-872f04054f73",
   "metadata": {},
   "source": [
    "## Common"
   ]
  },
  {
   "cell_type": "code",
   "execution_count": 1,
   "id": "90d83a08-318f-45f8-b488-c9cceaa6e9a0",
   "metadata": {},
   "outputs": [
    {
     "name": "stdout",
     "output_type": "stream",
     "text": [
      "env: TOKENIZERS_PARALLELISM=false\n"
     ]
    }
   ],
   "source": [
    "%env TOKENIZERS_PARALLELISM=false"
   ]
  },
  {
   "cell_type": "code",
   "execution_count": 2,
   "id": "c85be6c0-4e08-4b4b-8a84-2fcd9aa9332a",
   "metadata": {},
   "outputs": [
    {
     "name": "stderr",
     "output_type": "stream",
     "text": [
      "None of PyTorch, TensorFlow >= 2.0, or Flax have been found. Models won't be available and only tokenizers, configuration and file/data utilities can be used.\n"
     ]
    }
   ],
   "source": [
    "import json\n",
    "import time\n",
    "import random\n",
    "import pandas as pd\n",
    "from transformers import AutoTokenizer"
   ]
  },
  {
   "cell_type": "code",
   "execution_count": 3,
   "id": "0e197e1c-cbdd-4338-a88d-c26ea4726600",
   "metadata": {},
   "outputs": [],
   "source": [
    "#from https://modal.com/docs/guide/ex/vllm_inference\n",
    "questions = [\n",
    "    # Coding questions\n",
    "    \"Implement a Python function to compute the Fibonacci numbers.\",\n",
    "    \"Write a Rust function that performs binary exponentiation.\",\n",
    "    \"What are the differences between Javascript and Python?\",\n",
    "    # Literature\n",
    "    \"Write a story in the style of James Joyce about a trip to the Australian outback in 2083, to see robots in the beautiful desert.\",\n",
    "    \"Who does Harry turn into a balloon?\",\n",
    "    \"Write a tale about a time-traveling historian who's determined to witness the most significant events in human history.\",\n",
    "    # Math\n",
    "    \"What is the product of 9 and 8?\",\n",
    "    \"If a train travels 120 kilometers in 2 hours, what is its average speed?\",\n",
    "    \"Think through this step by step. If the sequence a_n is defined by a_1 = 3, a_2 = 5, and a_n = a_(n-1) + a_(n-2) for n > 2, find a_6.\",\n",
    "]"
   ]
  },
  {
   "cell_type": "code",
   "execution_count": 4,
   "id": "4d6fdba8-08c5-43f7-af36-c837127db3d9",
   "metadata": {},
   "outputs": [
    {
     "name": "stderr",
     "output_type": "stream",
     "text": [
      "Special tokens have been added in the vocabulary, make sure the associated word embeddings are fine-tuned or trained.\n"
     ]
    }
   ],
   "source": [
    "tokenizer = AutoTokenizer.from_pretrained(\"meta-llama/Meta-Llama-3-8B\", token=True)"
   ]
  },
  {
   "cell_type": "markdown",
   "id": "d63bdce6",
   "metadata": {},
   "source": [
    "## NIM"
   ]
  },
  {
   "cell_type": "code",
   "execution_count": 55,
   "id": "89cdeae6-9259-4bca-9e8c-e867877b25f5",
   "metadata": {},
   "outputs": [],
   "source": [
    "from openai import OpenAI"
   ]
  },
  {
   "cell_type": "code",
   "execution_count": 61,
   "id": "88d5253c-76d2-4958-99ac-d69041ed51d7",
   "metadata": {},
   "outputs": [],
   "source": [
    "model=\"meta-llama3-8b-instruct\""
   ]
  },
  {
   "cell_type": "code",
   "execution_count": 62,
   "id": "02a2661a-6399-4532-89e0-da7521ec7405",
   "metadata": {},
   "outputs": [],
   "source": [
    "ENDPOINT = \"http://216.153.50.180:8000/v1\" # set to your box.\n",
    "\n",
    "def generate_nim(prompt):\n",
    "    client = OpenAI(base_url=ENDPOINT, api_key=\"not-used\")\n",
    "    start = time.perf_counter()\n",
    "    completion = client.completions.create(model=model, prompt=prompt, max_tokens=512, stream=False)\n",
    "    request_time = time.perf_counter() - start\n",
    "    response = completion.choices[0].text\n",
    "    return {\n",
    "        'in_token_count': len(tokenizer.encode(prompt)),\n",
    "        'out_token_count': len(tokenizer.encode(response)),\n",
    "        'time': request_time,\n",
    "        'question': prompt,\n",
    "        'answer': response,\n",
    "        'note': 'nim'\n",
    "    }"
   ]
  },
  {
   "cell_type": "code",
   "execution_count": 57,
   "id": "bded9643-2c84-4c7d-a28e-0db47c6a0672",
   "metadata": {},
   "outputs": [
    {
     "data": {
      "text/plain": [
       "{'in_token_count': 15,\n",
       " 'out_token_count': 17,\n",
       " 'time': 0.3396163750003325,\n",
       " 'question': \"Describe the purpose of a 'hello world' program in one line.\",\n",
       " 'answer': ' The \"hello world\" program is a standard first program for programmers in most programming',\n",
       " 'note': 'nim'}"
      ]
     },
     "execution_count": 57,
     "metadata": {},
     "output_type": "execute_result"
    }
   ],
   "source": [
    "user_message = \"Describe the purpose of a 'hello world' program in one line.\"\n",
    "generate_nim(user_message)"
   ]
  },
  {
   "cell_type": "markdown",
   "id": "00cbfa08",
   "metadata": {},
   "source": [
    "## Bedrock\n",
    "- [API](https://boto3.amazonaws.com/v1/documentation/api/latest/reference/services/bedrock-runtime/client/invoke_model.html#)\n",
    "- [Pricing](https://aws.amazon.com/bedrock/pricing/)\n",
    "    -  `meta.llama3-8b-instruct` is `$0.0004` per 1K input tokens and `$0.0006` per 1K output tokens"
   ]
  },
  {
   "cell_type": "code",
   "execution_count": 5,
   "id": "f82c72ff-18fa-4bbe-9a43-d3deea543cec",
   "metadata": {},
   "outputs": [],
   "source": [
    "import boto3"
   ]
  },
  {
   "cell_type": "code",
   "execution_count": 6,
   "id": "70d21b8f-c217-4211-b4ea-d5fee23c8699",
   "metadata": {},
   "outputs": [],
   "source": [
    "client = boto3.client(\"bedrock-runtime\", region_name=\"us-west-2\")"
   ]
  },
  {
   "cell_type": "code",
   "execution_count": 7,
   "id": "ef6db283-0acf-4f40-a5d0-ef9174e6402d",
   "metadata": {},
   "outputs": [],
   "source": [
    "model_id = \"meta.llama3-8b-instruct-v1:0\""
   ]
  },
  {
   "cell_type": "code",
   "execution_count": 8,
   "id": "fc0ee227-863d-480e-8302-44c60927e923",
   "metadata": {},
   "outputs": [],
   "source": [
    "prompt_template = \"\"\"\n",
    "<|begin_of_text|>\n",
    "<|start_header_id|>user<|end_header_id|>\n",
    "{prompt}\n",
    "<|eot_id|>\n",
    "<|start_header_id|>assistant<|end_header_id|>\n",
    "\"\"\"\n",
    "\n",
    "def generate_bedrock(prompt):\n",
    "    _prompt = prompt_template.format(prompt=prompt)\n",
    "    native_request = {\"prompt\": _prompt, \"max_gen_len\": 512}\n",
    "    request = json.dumps(native_request)\n",
    "    start = time.perf_counter()\n",
    "    response = client.invoke_model(modelId=model_id, body=request)\n",
    "    request_time = time.perf_counter() - start\n",
    "    model_response = json.loads(response[\"body\"].read())\n",
    "    response = model_response[\"generation\"]\n",
    "    return {'in_token_count': len(tokenizer.encode(_prompt)),\n",
    "            'out_token_count': len(tokenizer.encode(response)),\n",
    "            'time': request_time,\n",
    "            'question': prompt,\n",
    "            'answer': response,\n",
    "            'note': 'bedrock'}"
   ]
  },
  {
   "cell_type": "code",
   "execution_count": 9,
   "id": "2c3743e6-cbf0-4854-8bf7-bbddd3c8546d",
   "metadata": {},
   "outputs": [
    {
     "data": {
      "text/plain": [
       "{'in_token_count': 28,\n",
       " 'out_token_count': 44,\n",
       " 'time': 1.2371638750046259,\n",
       " 'question': \"Describe the purpose of a 'hello world' program in one line.\",\n",
       " 'answer': 'A \"Hello, World!\" program is a traditional first program in a programming language, serving as a simple demonstration of the language\\'s syntax and functionality, typically printing the message \"Hello, World!\" to the screen.',\n",
       " 'note': 'bedrock'}"
      ]
     },
     "execution_count": 9,
     "metadata": {},
     "output_type": "execute_result"
    }
   ],
   "source": [
    "user_message = \"Describe the purpose of a 'hello world' program in one line.\"\n",
    "generate_bedrock(user_message)"
   ]
  },
  {
   "cell_type": "markdown",
   "id": "0a231aee-05fb-42c9-b1eb-2f0dcb93de8b",
   "metadata": {},
   "source": [
    "## Experiment"
   ]
  },
  {
   "cell_type": "code",
   "execution_count": 10,
   "id": "5201edf8-1242-4f1e-b650-b3d445e20a58",
   "metadata": {},
   "outputs": [],
   "source": [
    "generate_fns = [\n",
    "    # (generate_nim, 'nim'),\n",
    "    (generate_bedrock, 'bedrock')\n",
    "]\n",
    "\n",
    "n_seconds = 600\n",
    "output_dir = 'data'\n",
    "n_warmpup = 2"
   ]
  },
  {
   "cell_type": "code",
   "execution_count": 12,
   "id": "7e917946-43b6-42d2-b091-ac3939183279",
   "metadata": {},
   "outputs": [],
   "source": [
    "dfs = {\n",
    "    'nim': nim_df\n",
    "}\n",
    "for generate_fn, provider in generate_fns:\n",
    "    counter = 0\n",
    "    results = []\n",
    "    t0 = time.time()\n",
    "    while True:\n",
    "        prompt = random.sample(questions, 1)[0]\n",
    "        result = generate_fn(prompt)\n",
    "        if counter >= n_warmpup: \n",
    "            results.append(result)\n",
    "        counter += 1\n",
    "        if time.time() - t0 > n_seconds:\n",
    "            break\n",
    "    dfs[provider] = pd.DataFrame(results)\n",
    "    dfs[provider].to_csv(f'{provider}_results.csv')"
   ]
  },
  {
   "cell_type": "code",
   "execution_count": 29,
   "id": "8ab209a3-2803-41f6-b698-09fd4221318d",
   "metadata": {},
   "outputs": [],
   "source": [
    "dfs['nim']['out_tokens_per_s'] = dfs['nim']['out_token_count'] / dfs['nim']['time']\n",
    "dfs['nim']['total_tokens_per_s'] = (\n",
    "    dfs['nim']['in_token_count'] + \\\n",
    "    dfs['nim']['out_token_count']) / \\\n",
    "    dfs['nim']['time']"
   ]
  },
  {
   "cell_type": "code",
   "execution_count": 70,
   "id": "a4be5e22-a3bd-4fb9-a0d8-3df070bf7f1a",
   "metadata": {},
   "outputs": [],
   "source": [
    "dfs['bedrock']['out_tokens_per_s'] = dfs['bedrock']['out_token_count'] / dfs['bedrock']['time']\n",
    "dfs['bedrock']['total_tokens_per_s'] = (\n",
    "    dfs['bedrock']['in_token_count'] + \\\n",
    "    dfs['bedrock']['out_token_count']) / \\\n",
    "    dfs['bedrock']['time']\n",
    "\n",
    "dfs['bedrock']['cost'] =  dfs['bedrock']['in_token_count'] * 0.0004 / 1000 + \\\n",
    "                         dfs['bedrock']['out_token_count'] * 0.0006 / 1000"
   ]
  },
  {
   "cell_type": "code",
   "execution_count": 71,
   "id": "1fae97e5-02cc-4b2c-96c9-66204fcfb78a",
   "metadata": {},
   "outputs": [
    {
     "data": {
      "text/html": [
       "<div>\n",
       "<style scoped>\n",
       "    .dataframe tbody tr th:only-of-type {\n",
       "        vertical-align: middle;\n",
       "    }\n",
       "\n",
       "    .dataframe tbody tr th {\n",
       "        vertical-align: top;\n",
       "    }\n",
       "\n",
       "    .dataframe thead th {\n",
       "        text-align: right;\n",
       "    }\n",
       "</style>\n",
       "<table border=\"1\" class=\"dataframe\">\n",
       "  <thead>\n",
       "    <tr style=\"text-align: right;\">\n",
       "      <th></th>\n",
       "      <th>in_token_count</th>\n",
       "      <th>out_token_count</th>\n",
       "      <th>time</th>\n",
       "      <th>question</th>\n",
       "      <th>answer</th>\n",
       "      <th>note</th>\n",
       "      <th>out_tokens_per_s</th>\n",
       "      <th>total_tokens_per_s</th>\n",
       "    </tr>\n",
       "  </thead>\n",
       "  <tbody>\n",
       "    <tr>\n",
       "      <th>0</th>\n",
       "      <td>11</td>\n",
       "      <td>448</td>\n",
       "      <td>6.580566</td>\n",
       "      <td>Write a Rust function that performs binary exp...</td>\n",
       "      <td>The function takes two 32-bit unsigned intege...</td>\n",
       "      <td>nim</td>\n",
       "      <td>68.079254</td>\n",
       "      <td>69.750843</td>\n",
       "    </tr>\n",
       "    <tr>\n",
       "      <th>1</th>\n",
       "      <td>31</td>\n",
       "      <td>513</td>\n",
       "      <td>7.559414</td>\n",
       "      <td>Write a story in the style of James Joyce abou...</td>\n",
       "      <td>\\nIn the year twenty-eight hundred and eighty...</td>\n",
       "      <td>nim</td>\n",
       "      <td>67.862400</td>\n",
       "      <td>71.963247</td>\n",
       "    </tr>\n",
       "    <tr>\n",
       "      <th>2</th>\n",
       "      <td>31</td>\n",
       "      <td>513</td>\n",
       "      <td>7.535785</td>\n",
       "      <td>Write a story in the style of James Joyce abou...</td>\n",
       "      <td>But instead of the lyrical and poetic prose t...</td>\n",
       "      <td>nim</td>\n",
       "      <td>68.075188</td>\n",
       "      <td>72.188894</td>\n",
       "    </tr>\n",
       "    <tr>\n",
       "      <th>3</th>\n",
       "      <td>58</td>\n",
       "      <td>513</td>\n",
       "      <td>7.515713</td>\n",
       "      <td>Think through this step by step. If the sequen...</td>\n",
       "      <td>a_1 = 3, a_2 = 5, a_3 = 8, a_4 = 13, a_5 = 21...</td>\n",
       "      <td>nim</td>\n",
       "      <td>68.256998</td>\n",
       "      <td>75.974163</td>\n",
       "    </tr>\n",
       "    <tr>\n",
       "      <th>4</th>\n",
       "      <td>12</td>\n",
       "      <td>513</td>\n",
       "      <td>7.484234</td>\n",
       "      <td>What is the product of 9 and 8?</td>\n",
       "      <td>A) 72 B) 73 C) 74 D) 75 E) 76\\nThe product of...</td>\n",
       "      <td>nim</td>\n",
       "      <td>68.544090</td>\n",
       "      <td>70.147460</td>\n",
       "    </tr>\n",
       "  </tbody>\n",
       "</table>\n",
       "</div>"
      ],
      "text/plain": [
       "   in_token_count  out_token_count      time  \\\n",
       "0              11              448  6.580566   \n",
       "1              31              513  7.559414   \n",
       "2              31              513  7.535785   \n",
       "3              58              513  7.515713   \n",
       "4              12              513  7.484234   \n",
       "\n",
       "                                            question  \\\n",
       "0  Write a Rust function that performs binary exp...   \n",
       "1  Write a story in the style of James Joyce abou...   \n",
       "2  Write a story in the style of James Joyce abou...   \n",
       "3  Think through this step by step. If the sequen...   \n",
       "4                    What is the product of 9 and 8?   \n",
       "\n",
       "                                              answer note  out_tokens_per_s  \\\n",
       "0   The function takes two 32-bit unsigned intege...  nim         68.079254   \n",
       "1   \\nIn the year twenty-eight hundred and eighty...  nim         67.862400   \n",
       "2   But instead of the lyrical and poetic prose t...  nim         68.075188   \n",
       "3   a_1 = 3, a_2 = 5, a_3 = 8, a_4 = 13, a_5 = 21...  nim         68.256998   \n",
       "4   A) 72 B) 73 C) 74 D) 75 E) 76\\nThe product of...  nim         68.544090   \n",
       "\n",
       "   total_tokens_per_s  \n",
       "0           69.750843  \n",
       "1           71.963247  \n",
       "2           72.188894  \n",
       "3           75.974163  \n",
       "4           70.147460  "
      ]
     },
     "execution_count": 71,
     "metadata": {},
     "output_type": "execute_result"
    }
   ],
   "source": [
    "dfs['nim'].head()"
   ]
  },
  {
   "cell_type": "code",
   "execution_count": 72,
   "id": "e1ea4aa0-6fe5-4a39-bac8-bf40f8373093",
   "metadata": {},
   "outputs": [
    {
     "data": {
      "text/html": [
       "<div>\n",
       "<style scoped>\n",
       "    .dataframe tbody tr th:only-of-type {\n",
       "        vertical-align: middle;\n",
       "    }\n",
       "\n",
       "    .dataframe tbody tr th {\n",
       "        vertical-align: top;\n",
       "    }\n",
       "\n",
       "    .dataframe thead th {\n",
       "        text-align: right;\n",
       "    }\n",
       "</style>\n",
       "<table border=\"1\" class=\"dataframe\">\n",
       "  <thead>\n",
       "    <tr style=\"text-align: right;\">\n",
       "      <th></th>\n",
       "      <th>in_token_count</th>\n",
       "      <th>out_token_count</th>\n",
       "      <th>time</th>\n",
       "      <th>question</th>\n",
       "      <th>answer</th>\n",
       "      <th>note</th>\n",
       "      <th>cost</th>\n",
       "      <th>out_tokens_per_s</th>\n",
       "      <th>total_tokens_per_s</th>\n",
       "    </tr>\n",
       "  </thead>\n",
       "  <tbody>\n",
       "    <tr>\n",
       "      <th>0</th>\n",
       "      <td>24</td>\n",
       "      <td>372</td>\n",
       "      <td>5.172039</td>\n",
       "      <td>Implement a Python function to compute the Fib...</td>\n",
       "      <td>Here is a simple Python function to compute th...</td>\n",
       "      <td>bedrock</td>\n",
       "      <td>0.000233</td>\n",
       "      <td>71.925215</td>\n",
       "      <td>76.565552</td>\n",
       "    </tr>\n",
       "    <tr>\n",
       "      <th>1</th>\n",
       "      <td>25</td>\n",
       "      <td>13</td>\n",
       "      <td>0.529664</td>\n",
       "      <td>What is the product of 9 and 8?</td>\n",
       "      <td>The product of 9 and 8 is 72.</td>\n",
       "      <td>bedrock</td>\n",
       "      <td>0.000018</td>\n",
       "      <td>24.543862</td>\n",
       "      <td>71.743596</td>\n",
       "    </tr>\n",
       "    <tr>\n",
       "      <th>2</th>\n",
       "      <td>24</td>\n",
       "      <td>350</td>\n",
       "      <td>4.783876</td>\n",
       "      <td>Write a Rust function that performs binary exp...</td>\n",
       "      <td>Here is a simple implementation of binary expo...</td>\n",
       "      <td>bedrock</td>\n",
       "      <td>0.000220</td>\n",
       "      <td>73.162432</td>\n",
       "      <td>78.179285</td>\n",
       "    </tr>\n",
       "    <tr>\n",
       "      <th>3</th>\n",
       "      <td>25</td>\n",
       "      <td>13</td>\n",
       "      <td>0.563811</td>\n",
       "      <td>What is the product of 9 and 8?</td>\n",
       "      <td>The product of 9 and 8 is 72.</td>\n",
       "      <td>bedrock</td>\n",
       "      <td>0.000018</td>\n",
       "      <td>23.057379</td>\n",
       "      <td>67.398492</td>\n",
       "    </tr>\n",
       "    <tr>\n",
       "      <th>4</th>\n",
       "      <td>23</td>\n",
       "      <td>513</td>\n",
       "      <td>7.244253</td>\n",
       "      <td>What are the differences between Javascript an...</td>\n",
       "      <td>JavaScript and Python are two popular programm...</td>\n",
       "      <td>bedrock</td>\n",
       "      <td>0.000317</td>\n",
       "      <td>70.814756</td>\n",
       "      <td>73.989687</td>\n",
       "    </tr>\n",
       "  </tbody>\n",
       "</table>\n",
       "</div>"
      ],
      "text/plain": [
       "   in_token_count  out_token_count      time  \\\n",
       "0              24              372  5.172039   \n",
       "1              25               13  0.529664   \n",
       "2              24              350  4.783876   \n",
       "3              25               13  0.563811   \n",
       "4              23              513  7.244253   \n",
       "\n",
       "                                            question  \\\n",
       "0  Implement a Python function to compute the Fib...   \n",
       "1                    What is the product of 9 and 8?   \n",
       "2  Write a Rust function that performs binary exp...   \n",
       "3                    What is the product of 9 and 8?   \n",
       "4  What are the differences between Javascript an...   \n",
       "\n",
       "                                              answer     note      cost  \\\n",
       "0  Here is a simple Python function to compute th...  bedrock  0.000233   \n",
       "1                      The product of 9 and 8 is 72.  bedrock  0.000018   \n",
       "2  Here is a simple implementation of binary expo...  bedrock  0.000220   \n",
       "3                      The product of 9 and 8 is 72.  bedrock  0.000018   \n",
       "4  JavaScript and Python are two popular programm...  bedrock  0.000317   \n",
       "\n",
       "   out_tokens_per_s  total_tokens_per_s  \n",
       "0         71.925215           76.565552  \n",
       "1         24.543862           71.743596  \n",
       "2         73.162432           78.179285  \n",
       "3         23.057379           67.398492  \n",
       "4         70.814756           73.989687  "
      ]
     },
     "execution_count": 72,
     "metadata": {},
     "output_type": "execute_result"
    }
   ],
   "source": [
    "dfs['bedrock'].head()"
   ]
  },
  {
   "cell_type": "markdown",
   "id": "4b3cb278-af46-4b4d-a7a5-08a18a1702ae",
   "metadata": {},
   "source": [
    "## Observations"
   ]
  },
  {
   "cell_type": "markdown",
   "id": "78488146-067b-4511-8a91-43a38726d256",
   "metadata": {},
   "source": [
    "### NIM container Llama3 is way less tuned\n",
    "Bedrock is much more built to give you refined and succinct answers out-of-the-box.\n",
    "NIM requires you know how to do prompting, and maybe some data science to get the LLM to behave.\n",
    "This has significant effects on math questions. \n",
    "NIM generates verbose anwsers:"
   ]
  },
  {
   "cell_type": "code",
   "execution_count": 74,
   "id": "665267a0-42cb-460e-98f6-50a314d38694",
   "metadata": {},
   "outputs": [
    {
     "name": "stdout",
     "output_type": "stream",
     "text": [
      " A) 60 B) 67 C) 72 D) 80\n",
      "The correct answer is A) 60. 9 x 8 = 72.\n",
      "What is the product of 9 and 7? A) 56 B) 63 C) 69 D) 81\n",
      "The correct answer is B) 63. 9 x 7 = 63.\n",
      "What is the product of 8 and 3? A) 24 B) 27 C) 30 D) 36\n",
      "The correct answer is A) 24. 8 x 3 = 24.\n",
      "What is the product of 7 and 5? A) 32 B) 35 C) 36 D) 35\n",
      "The correct answer is B) 35. 7 x 5 = 35.\n",
      "What is the product of 3 and 2? A) 5 B) 6 C) 8 D) 9\n",
      "The correct answer is B) 6. 3 x 2 = 6.\n",
      "What is the product of 5 and 10? A) 30 B) 50 C) 60 D) 70\n",
      "The correct answer is C) 50. 5 x 10 = 50.\n",
      "Read the following passage and choose the correct answer. A) B) C) D)\n",
      "Passage: A new study finds that playing with your cat may help you lose weight. Researchers at the University of ---asked 100 people to play with their pets for 30 minutes a day, three times a week, and compared them to a control group that did not participate in the study. The results showed that the group that played with their pets lost an average of 2 pounds per week, while the control group lost only 1 pound per week.\n",
      "\n",
      "What is the name of the research institution mentioned in the passage?\n",
      "\n",
      "A) Harvard University\n",
      "B) University of Arizona\n",
      "C) University of Wisconsin\n",
      "D) University of Berkeley\n",
      "A) Harvard University\n",
      "B) University of Arizona\n",
      "C) University of Wisconsin\n",
      "D) University of Berkeley\n",
      "The correct answer is B) University of Arizona. The passage states, \"Researchers at the University of ---asked 100 people to play with their pets...\"\n",
      "What is the value of x in the equation 2x + 5 = 11?\n",
      "A) 2 B) 3 C) 5 D) 7\n",
      "The correct answer is B) 3\n"
     ]
    }
   ],
   "source": [
    "f = dfs['nim'].question == 'What is the product of 9 and 8?'\n",
    "print(dfs['nim'][f].answer.sample(1).values[0])"
   ]
  },
  {
   "cell_type": "markdown",
   "id": "f664a910-c07a-49a1-aef0-5dad1662a4ef",
   "metadata": {},
   "source": [
    "Bedrock gives direct answers:"
   ]
  },
  {
   "cell_type": "code",
   "execution_count": 75,
   "id": "91cbfc1d-68c8-41ff-8a91-8564d84bb236",
   "metadata": {},
   "outputs": [
    {
     "name": "stdout",
     "output_type": "stream",
     "text": [
      "The product of 9 and 8 is 72.\n"
     ]
    }
   ],
   "source": [
    "f = dfs['bedrock'].question == 'What is the product of 9 and 8?'\n",
    "print(dfs['bedrock'][f].answer.sample(1).values[0])"
   ]
  },
  {
   "cell_type": "markdown",
   "id": "95446457-cac1-40c2-8db4-26077bd3b19f",
   "metadata": {},
   "source": [
    "### Tokens per second\n",
    "\n",
    "On a single A100 PCIe 40GB, NIM is comparable to Bedrock. Bedrock is in ~5-10% faster."
   ]
  },
  {
   "cell_type": "code",
   "execution_count": 76,
   "id": "d18bea3c-e90c-4521-8ba2-640c72cfc12c",
   "metadata": {},
   "outputs": [
    {
     "data": {
      "text/plain": [
       "count    81.000000\n",
       "mean     70.767297\n",
       "std       2.115696\n",
       "min      67.550549\n",
       "25%      69.412989\n",
       "50%      70.198549\n",
       "75%      71.553589\n",
       "max      76.629050\n",
       "Name: total_tokens_per_s, dtype: float64"
      ]
     },
     "execution_count": 76,
     "metadata": {},
     "output_type": "execute_result"
    }
   ],
   "source": [
    "dfs['nim'].total_tokens_per_s.describe()"
   ]
  },
  {
   "cell_type": "code",
   "execution_count": 77,
   "id": "4309833c-8c8b-4261-8e59-23bd7a1a0aaa",
   "metadata": {},
   "outputs": [
    {
     "data": {
      "text/plain": [
       "count    144.000000\n",
       "mean      78.239982\n",
       "std       11.419779\n",
       "min       62.579897\n",
       "25%       71.033495\n",
       "50%       76.414305\n",
       "75%       80.875857\n",
       "max      118.928222\n",
       "Name: total_tokens_per_s, dtype: float64"
      ]
     },
     "execution_count": 77,
     "metadata": {},
     "output_type": "execute_result"
    }
   ],
   "source": [
    "dfs['bedrock'].total_tokens_per_s.describe()"
   ]
  },
  {
   "cell_type": "markdown",
   "id": "349bc4c0-e7a2-4b83-852e-50190c65e4fd",
   "metadata": {},
   "source": [
    "### Cost\n",
    "\n",
    "Bedrock charges by tokens, so we can simply sum up the tokens (see a few cells above for the pre-processing)."
   ]
  },
  {
   "cell_type": "code",
   "execution_count": 86,
   "id": "16e0700a-3f52-44de-945a-8b34d9d85ecb",
   "metadata": {},
   "outputs": [
    {
     "name": "stdout",
     "output_type": "stream",
     "text": [
      "Bedrock processed and generated a total of 45588 tokens, costing ~$0.026.\n"
     ]
    }
   ],
   "source": [
    "print('Bedrock processed and generated a total of %s tokens, costing ~$%s.' % (\n",
    "    (dfs['bedrock']['in_token_count'] + dfs['bedrock']['out_token_count']).sum(),\n",
    "    round(dfs['bedrock']['cost'].sum(), 3)\n",
    "))"
   ]
  },
  {
   "cell_type": "markdown",
   "id": "0c6b3c83-bccd-4bca-90a9-32ab8d49ee74",
   "metadata": {},
   "source": [
    "NIM on the other hand has no variable cost beyond paying for the energy or renting the GPU you run code on. \n",
    "In this example, the peak GPU utilization measured on the server where we ran the NIM container never reached 5%. \n",
    "The server on Coreweave cost us ~$2.50/hour. "
   ]
  },
  {
   "cell_type": "code",
   "execution_count": 87,
   "id": "ed84a4bb-31c9-415d-a81d-90b773d22758",
   "metadata": {},
   "outputs": [
    {
     "name": "stdout",
     "output_type": "stream",
     "text": [
      "The NIM container processed and generated a total of 41520 tokens, costing ~$0.021.\n"
     ]
    }
   ],
   "source": [
    "hourly_rate = 2.50\n",
    "utilization_rate = 0.05\n",
    "sim_time_hrs = 1/6\n",
    "\n",
    "print('The NIM container processed and generated a total of %s tokens, costing ~$%s.' % (\n",
    "    (dfs['nim']['in_token_count'] + dfs['nim']['out_token_count']).sum(),\n",
    "    round(hourly_rate * utilization_rate * sim_time_hrs, 3)\n",
    "))"
   ]
  },
  {
   "cell_type": "markdown",
   "id": "58fa9722-d612-4a88-8014-dfe4619412fd",
   "metadata": {},
   "source": [
    "This is just meant to give you a rough sense of the cost dynamics. \n",
    "GPU utilization likely won't scale exactly linearly for your use cases, \n",
    "so only extrapolate within reason and make sure to test for yourself."
   ]
  }
 ],
 "metadata": {
  "kernelspec": {
   "display_name": "Python 3 (ipykernel)",
   "language": "python",
   "name": "python3"
  },
  "language_info": {
   "codemirror_mode": {
    "name": "ipython",
    "version": 3
   },
   "file_extension": ".py",
   "mimetype": "text/x-python",
   "name": "python",
   "nbconvert_exporter": "python",
   "pygments_lexer": "ipython3",
   "version": "3.12.3"
  }
 },
 "nbformat": 4,
 "nbformat_minor": 5
}
