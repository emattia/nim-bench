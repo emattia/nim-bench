{
 "cells": [
  {
   "cell_type": "markdown",
   "id": "24e84786-e765-40e2-aae2-872f04054f73",
   "metadata": {},
   "source": [
    "## Common"
   ]
  },
  {
   "cell_type": "code",
   "execution_count": 1,
   "id": "90d83a08-318f-45f8-b488-c9cceaa6e9a0",
   "metadata": {},
   "outputs": [
    {
     "name": "stdout",
     "output_type": "stream",
     "text": [
      "env: TOKENIZERS_PARALLELISM=false\n"
     ]
    }
   ],
   "source": [
    "%env TOKENIZERS_PARALLELISM=false"
   ]
  },
  {
   "cell_type": "code",
   "execution_count": 2,
   "id": "c85be6c0-4e08-4b4b-8a84-2fcd9aa9332a",
   "metadata": {},
   "outputs": [
    {
     "name": "stderr",
     "output_type": "stream",
     "text": [
      "None of PyTorch, TensorFlow >= 2.0, or Flax have been found. Models won't be available and only tokenizers, configuration and file/data utilities can be used.\n"
     ]
    }
   ],
   "source": [
    "import json\n",
    "import time\n",
    "import random\n",
    "import pandas as pd\n",
    "from transformers import AutoTokenizer"
   ]
  },
  {
   "cell_type": "code",
   "execution_count": 3,
   "id": "0e197e1c-cbdd-4338-a88d-c26ea4726600",
   "metadata": {},
   "outputs": [],
   "source": [
    "#from https://modal.com/docs/guide/ex/vllm_inference\n",
    "questions = [\n",
    "    # Coding questions\n",
    "    \"Implement a Python function to compute the Fibonacci numbers.\",\n",
    "    \"Write a Rust function that performs binary exponentiation.\",\n",
    "    \"What are the differences between Javascript and Python?\",\n",
    "    # Literature\n",
    "    \"Write a story in the style of James Joyce about a trip to the Australian outback in 2083, to see robots in the beautiful desert.\",\n",
    "    \"Who does Harry turn into a balloon?\",\n",
    "    \"Write a tale about a time-traveling historian who's determined to witness the most significant events in human history.\",\n",
    "    # Math\n",
    "    \"What is the product of 9 and 8?\",\n",
    "    \"If a train travels 120 kilometers in 2 hours, what is its average speed?\",\n",
    "    \"Think through this step by step. If the sequence a_n is defined by a_1 = 3, a_2 = 5, and a_n = a_(n-1) + a_(n-2) for n > 2, find a_6.\",\n",
    "]"
   ]
  },
  {
   "cell_type": "code",
   "execution_count": 4,
   "id": "4d6fdba8-08c5-43f7-af36-c837127db3d9",
   "metadata": {},
   "outputs": [
    {
     "name": "stderr",
     "output_type": "stream",
     "text": [
      "Special tokens have been added in the vocabulary, make sure the associated word embeddings are fine-tuned or trained.\n"
     ]
    }
   ],
   "source": [
    "tokenizer = AutoTokenizer.from_pretrained(\"meta-llama/Meta-Llama-3-8B\", token=True)"
   ]
  },
  {
   "cell_type": "markdown",
   "id": "d63bdce6",
   "metadata": {},
   "source": [
    "## NIM"
   ]
  },
  {
   "cell_type": "code",
   "execution_count": 5,
   "id": "89cdeae6-9259-4bca-9e8c-e867877b25f5",
   "metadata": {},
   "outputs": [],
   "source": [
    "from openai import OpenAI"
   ]
  },
  {
   "cell_type": "code",
   "execution_count": 6,
   "id": "88d5253c-76d2-4958-99ac-d69041ed51d7",
   "metadata": {},
   "outputs": [],
   "source": [
    "model=\"meta-llama3-70b-instruct\""
   ]
  },
  {
   "cell_type": "code",
   "execution_count": 7,
   "id": "02a2661a-6399-4532-89e0-da7521ec7405",
   "metadata": {},
   "outputs": [],
   "source": [
    "ENDPOINT = \"http://216.153.50.191:8000/v1\" # set to your box.\n",
    "\n",
    "def generate_nim(prompt):\n",
    "    client = OpenAI(base_url=ENDPOINT, api_key=\"not-used\")\n",
    "    start = time.perf_counter()\n",
    "    completion = client.completions.create(model=model, prompt=prompt, max_tokens=512, stream=False)\n",
    "    request_time = time.perf_counter() - start\n",
    "    response = completion.choices[0].text\n",
    "    return {\n",
    "        'in_token_count': len(tokenizer.encode(prompt)),\n",
    "        'out_token_count': len(tokenizer.encode(response)),\n",
    "        'time': request_time,\n",
    "        'question': prompt,\n",
    "        'answer': response,\n",
    "        'note': 'nim'\n",
    "    }"
   ]
  },
  {
   "cell_type": "code",
   "execution_count": 8,
   "id": "bded9643-2c84-4c7d-a28e-0db47c6a0672",
   "metadata": {},
   "outputs": [
    {
     "data": {
      "text/plain": [
       "{'in_token_count': 15,\n",
       " 'out_token_count': 38,\n",
       " 'time': 2.0260479999997187,\n",
       " 'question': \"Describe the purpose of a 'hello world' program in one line.\",\n",
       " 'answer': ' The purpose of a \\'hello world\\' program is to verify that a programming environment is correctly set up by printing \"Hello, World!\" to the screen, requiring minimal syntax and complexity.',\n",
       " 'note': 'nim'}"
      ]
     },
     "execution_count": 8,
     "metadata": {},
     "output_type": "execute_result"
    }
   ],
   "source": [
    "user_message = \"Describe the purpose of a 'hello world' program in one line.\"\n",
    "generate_nim(user_message)"
   ]
  },
  {
   "cell_type": "markdown",
   "id": "00cbfa08",
   "metadata": {},
   "source": [
    "## Bedrock\n",
    "- [API](https://boto3.amazonaws.com/v1/documentation/api/latest/reference/services/bedrock-runtime/client/invoke_model.html#)\n",
    "- [Pricing](https://aws.amazon.com/bedrock/pricing/)\n",
    "    -  `meta.llama3-70b-instruct` is `$0.00265` per 1K input tokens and `$0.0035` per 1K output tokens"
   ]
  },
  {
   "cell_type": "code",
   "execution_count": 9,
   "id": "f82c72ff-18fa-4bbe-9a43-d3deea543cec",
   "metadata": {},
   "outputs": [],
   "source": [
    "import boto3"
   ]
  },
  {
   "cell_type": "code",
   "execution_count": 10,
   "id": "70d21b8f-c217-4211-b4ea-d5fee23c8699",
   "metadata": {},
   "outputs": [],
   "source": [
    "client = boto3.client(\"bedrock-runtime\", region_name=\"us-west-2\")"
   ]
  },
  {
   "cell_type": "code",
   "execution_count": 11,
   "id": "ef6db283-0acf-4f40-a5d0-ef9174e6402d",
   "metadata": {},
   "outputs": [],
   "source": [
    "model_id = \"meta.llama3-70b-instruct-v1:0\""
   ]
  },
  {
   "cell_type": "code",
   "execution_count": 12,
   "id": "fc0ee227-863d-480e-8302-44c60927e923",
   "metadata": {},
   "outputs": [],
   "source": [
    "prompt_template = \"\"\"\n",
    "<|begin_of_text|>\n",
    "<|start_header_id|>user<|end_header_id|>\n",
    "{prompt}\n",
    "<|eot_id|>\n",
    "<|start_header_id|>assistant<|end_header_id|>\n",
    "\"\"\"\n",
    "\n",
    "def generate_bedrock(prompt):\n",
    "    _prompt = prompt_template.format(prompt=prompt)\n",
    "    native_request = {\"prompt\": _prompt, \"max_gen_len\": 512}\n",
    "    request = json.dumps(native_request)\n",
    "    start = time.perf_counter()\n",
    "    response = client.invoke_model(modelId=model_id, body=request)\n",
    "    request_time = time.perf_counter() - start\n",
    "    model_response = json.loads(response[\"body\"].read())\n",
    "    response = model_response[\"generation\"]\n",
    "    return {'in_token_count': len(tokenizer.encode(_prompt)),\n",
    "            'out_token_count': len(tokenizer.encode(response)),\n",
    "            'time': request_time,\n",
    "            'question': prompt,\n",
    "            'answer': response,\n",
    "            'note': 'bedrock'}"
   ]
  },
  {
   "cell_type": "code",
   "execution_count": 13,
   "id": "2c3743e6-cbf0-4854-8bf7-bbddd3c8546d",
   "metadata": {},
   "outputs": [
    {
     "data": {
      "text/plain": [
       "{'in_token_count': 28,\n",
       " 'out_token_count': 36,\n",
       " 'time': 1.7313934590056306,\n",
       " 'question': \"Describe the purpose of a 'hello world' program in one line.\",\n",
       " 'answer': 'A \"Hello World\" program is a simple program that outputs \"Hello, World!\" to verify that a programming language, compiler, or development environment is correctly installed and functioning.',\n",
       " 'note': 'bedrock'}"
      ]
     },
     "execution_count": 13,
     "metadata": {},
     "output_type": "execute_result"
    }
   ],
   "source": [
    "user_message = \"Describe the purpose of a 'hello world' program in one line.\"\n",
    "generate_bedrock(user_message)"
   ]
  },
  {
   "cell_type": "markdown",
   "id": "0a231aee-05fb-42c9-b1eb-2f0dcb93de8b",
   "metadata": {},
   "source": [
    "## Experiment"
   ]
  },
  {
   "cell_type": "code",
   "execution_count": 16,
   "id": "5201edf8-1242-4f1e-b650-b3d445e20a58",
   "metadata": {},
   "outputs": [],
   "source": [
    "generate_fns = [\n",
    "    (generate_nim, 'nim'),\n",
    "    (generate_bedrock, 'bedrock')\n",
    "]\n",
    "\n",
    "n_seconds = 600\n",
    "output_dir = 'data'\n",
    "n_warmpup = 2"
   ]
  },
  {
   "cell_type": "code",
   "execution_count": 17,
   "id": "7e917946-43b6-42d2-b091-ac3939183279",
   "metadata": {},
   "outputs": [],
   "source": [
    "dfs = {}\n",
    "for generate_fn, provider in generate_fns:\n",
    "    counter = 0\n",
    "    results = []\n",
    "    t0 = time.time()\n",
    "    while True:\n",
    "        prompt = random.sample(questions, 1)[0]\n",
    "        result = generate_fn(prompt)\n",
    "        if counter >= n_warmpup: \n",
    "            results.append(result)\n",
    "        counter += 1\n",
    "        if time.time() - t0 > n_seconds:\n",
    "            break\n",
    "    dfs[provider] = pd.DataFrame(results)\n",
    "    dfs[provider].to_csv(f'{provider}_70b_results.csv')"
   ]
  },
  {
   "cell_type": "code",
   "execution_count": 18,
   "id": "8ab209a3-2803-41f6-b698-09fd4221318d",
   "metadata": {},
   "outputs": [],
   "source": [
    "dfs['nim']['out_tokens_per_s'] = dfs['nim']['out_token_count'] / dfs['nim']['time']\n",
    "dfs['nim']['total_tokens_per_s'] = (\n",
    "    dfs['nim']['in_token_count'] + \\\n",
    "    dfs['nim']['out_token_count']) / \\\n",
    "    dfs['nim']['time']"
   ]
  },
  {
   "cell_type": "code",
   "execution_count": 19,
   "id": "a4be5e22-a3bd-4fb9-a0d8-3df070bf7f1a",
   "metadata": {},
   "outputs": [],
   "source": [
    "dfs['bedrock']['out_tokens_per_s'] = dfs['bedrock']['out_token_count'] / dfs['bedrock']['time']\n",
    "dfs['bedrock']['total_tokens_per_s'] = (\n",
    "    dfs['bedrock']['in_token_count'] + \\\n",
    "    dfs['bedrock']['out_token_count']) / \\\n",
    "    dfs['bedrock']['time']\n",
    "\n",
    "dfs['bedrock']['cost'] =  dfs['bedrock']['in_token_count'] * 0.00265 / 1000 + \\\n",
    "                         dfs['bedrock']['out_token_count'] * 0.0035 / 1000"
   ]
  },
  {
   "cell_type": "code",
   "execution_count": 20,
   "id": "1fae97e5-02cc-4b2c-96c9-66204fcfb78a",
   "metadata": {},
   "outputs": [
    {
     "data": {
      "text/html": [
       "<div>\n",
       "<style scoped>\n",
       "    .dataframe tbody tr th:only-of-type {\n",
       "        vertical-align: middle;\n",
       "    }\n",
       "\n",
       "    .dataframe tbody tr th {\n",
       "        vertical-align: top;\n",
       "    }\n",
       "\n",
       "    .dataframe thead th {\n",
       "        text-align: right;\n",
       "    }\n",
       "</style>\n",
       "<table border=\"1\" class=\"dataframe\">\n",
       "  <thead>\n",
       "    <tr style=\"text-align: right;\">\n",
       "      <th></th>\n",
       "      <th>in_token_count</th>\n",
       "      <th>out_token_count</th>\n",
       "      <th>time</th>\n",
       "      <th>question</th>\n",
       "      <th>answer</th>\n",
       "      <th>note</th>\n",
       "      <th>out_tokens_per_s</th>\n",
       "      <th>total_tokens_per_s</th>\n",
       "    </tr>\n",
       "  </thead>\n",
       "  <tbody>\n",
       "    <tr>\n",
       "      <th>0</th>\n",
       "      <td>24</td>\n",
       "      <td>513</td>\n",
       "      <td>26.280606</td>\n",
       "      <td>Write a tale about a time-traveling historian ...</td>\n",
       "      <td>As the premiere expert in her field, she's ob...</td>\n",
       "      <td>nim</td>\n",
       "      <td>19.520098</td>\n",
       "      <td>20.433319</td>\n",
       "    </tr>\n",
       "    <tr>\n",
       "      <th>1</th>\n",
       "      <td>31</td>\n",
       "      <td>513</td>\n",
       "      <td>26.185760</td>\n",
       "      <td>Write a story in the style of James Joyce abou...</td>\n",
       "      <td>‘Tis a weird saloon of silicon and dust\\nIn t...</td>\n",
       "      <td>nim</td>\n",
       "      <td>19.590800</td>\n",
       "      <td>20.774650</td>\n",
       "    </tr>\n",
       "    <tr>\n",
       "      <th>2</th>\n",
       "      <td>10</td>\n",
       "      <td>513</td>\n",
       "      <td>26.232126</td>\n",
       "      <td>What are the differences between Javascript an...</td>\n",
       "      <td>How do you decide which one to use?\\nJavaScri...</td>\n",
       "      <td>nim</td>\n",
       "      <td>19.556174</td>\n",
       "      <td>19.937385</td>\n",
       "    </tr>\n",
       "    <tr>\n",
       "      <th>3</th>\n",
       "      <td>9</td>\n",
       "      <td>129</td>\n",
       "      <td>6.801200</td>\n",
       "      <td>Who does Harry turn into a balloon?</td>\n",
       "      <td>In the Harry Potter series, who does he turn ...</td>\n",
       "      <td>nim</td>\n",
       "      <td>18.967242</td>\n",
       "      <td>20.290538</td>\n",
       "    </tr>\n",
       "    <tr>\n",
       "      <th>4</th>\n",
       "      <td>19</td>\n",
       "      <td>513</td>\n",
       "      <td>26.724587</td>\n",
       "      <td>If a train travels 120 kilometers in 2 hours, ...</td>\n",
       "      <td>Average speed = Distance / Time = 120 / 2 = 6...</td>\n",
       "      <td>nim</td>\n",
       "      <td>19.195807</td>\n",
       "      <td>19.906762</td>\n",
       "    </tr>\n",
       "  </tbody>\n",
       "</table>\n",
       "</div>"
      ],
      "text/plain": [
       "   in_token_count  out_token_count       time  \\\n",
       "0              24              513  26.280606   \n",
       "1              31              513  26.185760   \n",
       "2              10              513  26.232126   \n",
       "3               9              129   6.801200   \n",
       "4              19              513  26.724587   \n",
       "\n",
       "                                            question  \\\n",
       "0  Write a tale about a time-traveling historian ...   \n",
       "1  Write a story in the style of James Joyce abou...   \n",
       "2  What are the differences between Javascript an...   \n",
       "3                Who does Harry turn into a balloon?   \n",
       "4  If a train travels 120 kilometers in 2 hours, ...   \n",
       "\n",
       "                                              answer note  out_tokens_per_s  \\\n",
       "0   As the premiere expert in her field, she's ob...  nim         19.520098   \n",
       "1   ‘Tis a weird saloon of silicon and dust\\nIn t...  nim         19.590800   \n",
       "2   How do you decide which one to use?\\nJavaScri...  nim         19.556174   \n",
       "3   In the Harry Potter series, who does he turn ...  nim         18.967242   \n",
       "4   Average speed = Distance / Time = 120 / 2 = 6...  nim         19.195807   \n",
       "\n",
       "   total_tokens_per_s  \n",
       "0           20.433319  \n",
       "1           20.774650  \n",
       "2           19.937385  \n",
       "3           20.290538  \n",
       "4           19.906762  "
      ]
     },
     "execution_count": 20,
     "metadata": {},
     "output_type": "execute_result"
    }
   ],
   "source": [
    "dfs['nim'].head()"
   ]
  },
  {
   "cell_type": "code",
   "execution_count": 21,
   "id": "e1ea4aa0-6fe5-4a39-bac8-bf40f8373093",
   "metadata": {},
   "outputs": [
    {
     "data": {
      "text/html": [
       "<div>\n",
       "<style scoped>\n",
       "    .dataframe tbody tr th:only-of-type {\n",
       "        vertical-align: middle;\n",
       "    }\n",
       "\n",
       "    .dataframe tbody tr th {\n",
       "        vertical-align: top;\n",
       "    }\n",
       "\n",
       "    .dataframe thead th {\n",
       "        text-align: right;\n",
       "    }\n",
       "</style>\n",
       "<table border=\"1\" class=\"dataframe\">\n",
       "  <thead>\n",
       "    <tr style=\"text-align: right;\">\n",
       "      <th></th>\n",
       "      <th>in_token_count</th>\n",
       "      <th>out_token_count</th>\n",
       "      <th>time</th>\n",
       "      <th>question</th>\n",
       "      <th>answer</th>\n",
       "      <th>note</th>\n",
       "      <th>out_tokens_per_s</th>\n",
       "      <th>total_tokens_per_s</th>\n",
       "      <th>cost</th>\n",
       "    </tr>\n",
       "  </thead>\n",
       "  <tbody>\n",
       "    <tr>\n",
       "      <th>0</th>\n",
       "      <td>71</td>\n",
       "      <td>217</td>\n",
       "      <td>9.087446</td>\n",
       "      <td>Think through this step by step. If the sequen...</td>\n",
       "      <td>Let's break it down step by step:\\n\\n1. We are...</td>\n",
       "      <td>bedrock</td>\n",
       "      <td>23.879096</td>\n",
       "      <td>31.692072</td>\n",
       "      <td>0.000948</td>\n",
       "    </tr>\n",
       "    <tr>\n",
       "      <th>1</th>\n",
       "      <td>22</td>\n",
       "      <td>58</td>\n",
       "      <td>3.419523</td>\n",
       "      <td>Who does Harry turn into a balloon?</td>\n",
       "      <td>I think you might be thinking of Uncle Vernon!...</td>\n",
       "      <td>bedrock</td>\n",
       "      <td>16.961428</td>\n",
       "      <td>23.395074</td>\n",
       "      <td>0.000261</td>\n",
       "    </tr>\n",
       "    <tr>\n",
       "      <th>2</th>\n",
       "      <td>44</td>\n",
       "      <td>513</td>\n",
       "      <td>17.668972</td>\n",
       "      <td>Write a story in the style of James Joyce abou...</td>\n",
       "      <td>As I emerged from the hermetically sealed caps...</td>\n",
       "      <td>bedrock</td>\n",
       "      <td>29.033947</td>\n",
       "      <td>31.524189</td>\n",
       "      <td>0.001912</td>\n",
       "    </tr>\n",
       "    <tr>\n",
       "      <th>3</th>\n",
       "      <td>71</td>\n",
       "      <td>236</td>\n",
       "      <td>8.272325</td>\n",
       "      <td>Think through this step by step. If the sequen...</td>\n",
       "      <td>Let's break it down step by step:\\n\\n1. We are...</td>\n",
       "      <td>bedrock</td>\n",
       "      <td>28.528861</td>\n",
       "      <td>37.111696</td>\n",
       "      <td>0.001014</td>\n",
       "    </tr>\n",
       "    <tr>\n",
       "      <th>4</th>\n",
       "      <td>44</td>\n",
       "      <td>513</td>\n",
       "      <td>14.278473</td>\n",
       "      <td>Write a story in the style of James Joyce abou...</td>\n",
       "      <td>As I emerged from the levitating transport pod...</td>\n",
       "      <td>bedrock</td>\n",
       "      <td>35.928211</td>\n",
       "      <td>39.009773</td>\n",
       "      <td>0.001912</td>\n",
       "    </tr>\n",
       "  </tbody>\n",
       "</table>\n",
       "</div>"
      ],
      "text/plain": [
       "   in_token_count  out_token_count       time  \\\n",
       "0              71              217   9.087446   \n",
       "1              22               58   3.419523   \n",
       "2              44              513  17.668972   \n",
       "3              71              236   8.272325   \n",
       "4              44              513  14.278473   \n",
       "\n",
       "                                            question  \\\n",
       "0  Think through this step by step. If the sequen...   \n",
       "1                Who does Harry turn into a balloon?   \n",
       "2  Write a story in the style of James Joyce abou...   \n",
       "3  Think through this step by step. If the sequen...   \n",
       "4  Write a story in the style of James Joyce abou...   \n",
       "\n",
       "                                              answer     note  \\\n",
       "0  Let's break it down step by step:\\n\\n1. We are...  bedrock   \n",
       "1  I think you might be thinking of Uncle Vernon!...  bedrock   \n",
       "2  As I emerged from the hermetically sealed caps...  bedrock   \n",
       "3  Let's break it down step by step:\\n\\n1. We are...  bedrock   \n",
       "4  As I emerged from the levitating transport pod...  bedrock   \n",
       "\n",
       "   out_tokens_per_s  total_tokens_per_s      cost  \n",
       "0         23.879096           31.692072  0.000948  \n",
       "1         16.961428           23.395074  0.000261  \n",
       "2         29.033947           31.524189  0.001912  \n",
       "3         28.528861           37.111696  0.001014  \n",
       "4         35.928211           39.009773  0.001912  "
      ]
     },
     "execution_count": 21,
     "metadata": {},
     "output_type": "execute_result"
    }
   ],
   "source": [
    "dfs['bedrock'].head()"
   ]
  },
  {
   "cell_type": "markdown",
   "id": "4b3cb278-af46-4b4d-a7a5-08a18a1702ae",
   "metadata": {},
   "source": [
    "## Observations"
   ]
  },
  {
   "cell_type": "markdown",
   "id": "78488146-067b-4511-8a91-43a38726d256",
   "metadata": {},
   "source": [
    "### NIM container Llama3 is way less tuned\n",
    "Bedrock is much more built to give you refined and succinct answers out-of-the-box.\n",
    "NIM requires you know how to do prompting, and maybe some data science to get the LLM to behave.\n",
    "This has significant effects on math questions. \n",
    "NIM generates verbose anwsers:"
   ]
  },
  {
   "cell_type": "code",
   "execution_count": 22,
   "id": "665267a0-42cb-460e-98f6-50a314d38694",
   "metadata": {},
   "outputs": [
    {
     "name": "stdout",
     "output_type": "stream",
     "text": [
      " Let’s see what we can do. 9 times 8 can be written as 9 x 8. So, we can multiply 9 by 8. That means we will add 9 together 8 times. 9 + 9 + 9 + 9 + 9 + 9 + 9 + 9 = 72. So, the product of 9 and 8 is 72.\n",
      "What is the product of 4 and 9? Let’s see what we can do. 4 times 9 can be written as 4 x 9. So, we can multiply 4 by 9. That means we will add 4 together 9 times. 4 + 4 + 4 + 4 + 4 + 4 + 4 + 4 + 4 = 36. So, the product of 4 and 9 is 36.\n",
      "What is the product of 6 and 5? Let’s see what we can do. 6 times 5 can be written as 6 x 5. So, we can multiply 6 by 5. That means we will add 6 together 5 times. 6 + 6 + 6 + 6 + 6 = 30. So, the product of 6 and 5 is 30.\n",
      "What is the product of 8 and 9? Let’s see what we can do. 8 times 9 can be written as 8 x 9. So, we can multiply 8 by 9. That means we will add 8 together 9 times. 8 + 8 + 8 + 8 + 8 + 8 + 8 + 8 + 8 = 72. So, the product of 8 and 9 is 72.\n",
      "What is the product of 3 and 7? Let’s see what we can do. 3 times 7 can be written as 3 x 7. So, we can multiply 3 by 7. That means we will add 3 together 7 times. 3 + 3 + 3 + 3 + 3 + 3 + 3 = 21. So, the product of 3 and 7 is 21.\n",
      "What is the product of 9 and 6? Let’s see what we can do. 9 times 6 can be written as 9 x 6. So, we can multiply\n"
     ]
    }
   ],
   "source": [
    "f = dfs['nim'].question == 'What is the product of 9 and 8?'\n",
    "print(dfs['nim'][f].answer.sample(1).values[0])"
   ]
  },
  {
   "cell_type": "markdown",
   "id": "f664a910-c07a-49a1-aef0-5dad1662a4ef",
   "metadata": {},
   "source": [
    "Bedrock gives direct answers:"
   ]
  },
  {
   "cell_type": "code",
   "execution_count": 23,
   "id": "91cbfc1d-68c8-41ff-8a91-8564d84bb236",
   "metadata": {},
   "outputs": [
    {
     "name": "stdout",
     "output_type": "stream",
     "text": [
      "The product of 9 and 8 is 72.\n"
     ]
    }
   ],
   "source": [
    "f = dfs['bedrock'].question == 'What is the product of 9 and 8?'\n",
    "print(dfs['bedrock'][f].answer.sample(1).values[0])"
   ]
  },
  {
   "cell_type": "markdown",
   "id": "95446457-cac1-40c2-8db4-26077bd3b19f",
   "metadata": {},
   "source": [
    "### Tokens per second\n",
    "\n",
    "On a single A100 PCIe 40GB, NIM is comparable to Bedrock. Bedrock is in ~50-100% faster."
   ]
  },
  {
   "cell_type": "code",
   "execution_count": 24,
   "id": "d18bea3c-e90c-4521-8ba2-640c72cfc12c",
   "metadata": {},
   "outputs": [
    {
     "data": {
      "text/plain": [
       "count    31.000000\n",
       "mean     21.073136\n",
       "std       2.799930\n",
       "min      19.315702\n",
       "25%      19.796298\n",
       "50%      20.183843\n",
       "75%      20.680159\n",
       "max      30.799143\n",
       "Name: total_tokens_per_s, dtype: float64"
      ]
     },
     "execution_count": 24,
     "metadata": {},
     "output_type": "execute_result"
    }
   ],
   "source": [
    "dfs['nim'].total_tokens_per_s.describe()"
   ]
  },
  {
   "cell_type": "code",
   "execution_count": 25,
   "id": "4309833c-8c8b-4261-8e59-23bd7a1a0aaa",
   "metadata": {},
   "outputs": [
    {
     "data": {
      "text/plain": [
       "count    63.000000\n",
       "mean     36.293408\n",
       "std       7.050787\n",
       "min      22.931709\n",
       "25%      31.795636\n",
       "50%      35.788922\n",
       "75%      39.818046\n",
       "max      52.125832\n",
       "Name: total_tokens_per_s, dtype: float64"
      ]
     },
     "execution_count": 25,
     "metadata": {},
     "output_type": "execute_result"
    }
   ],
   "source": [
    "dfs['bedrock'].total_tokens_per_s.describe()"
   ]
  },
  {
   "cell_type": "markdown",
   "id": "349bc4c0-e7a2-4b83-852e-50190c65e4fd",
   "metadata": {},
   "source": [
    "### Cost\n",
    "\n",
    "Bedrock charges by tokens, so we can simply sum up the tokens (see a few cells above for the pre-processing)."
   ]
  },
  {
   "cell_type": "code",
   "execution_count": 26,
   "id": "16e0700a-3f52-44de-945a-8b34d9d85ecb",
   "metadata": {},
   "outputs": [
    {
     "name": "stdout",
     "output_type": "stream",
     "text": [
      "Bedrock processed and generated a total of 20043 tokens, costing ~$0.068.\n"
     ]
    }
   ],
   "source": [
    "print('Bedrock processed and generated a total of %s tokens, costing ~$%s.' % (\n",
    "    (dfs['bedrock']['in_token_count'] + dfs['bedrock']['out_token_count']).sum(),\n",
    "    round(dfs['bedrock']['cost'].sum(), 3)\n",
    "))"
   ]
  },
  {
   "cell_type": "markdown",
   "id": "0c6b3c83-bccd-4bca-90a9-32ab8d49ee74",
   "metadata": {},
   "source": [
    "NIM on the other hand has no variable cost beyond paying for the energy or renting the GPU you run code on. \n",
    "In this example, the peak GPU utilization measured on the server where we ran the NIM container never reached 1%. \n",
    "The server on Coreweave cost us ~$10.00/hour. "
   ]
  },
  {
   "cell_type": "code",
   "execution_count": 27,
   "id": "ed84a4bb-31c9-415d-a81d-90b773d22758",
   "metadata": {},
   "outputs": [
    {
     "name": "stdout",
     "output_type": "stream",
     "text": [
      "The NIM container processed and generated a total of 12009 tokens, costing ~$0.017.\n"
     ]
    }
   ],
   "source": [
    "hourly_rate = 10.00\n",
    "utilization_rate = 0.01\n",
    "sim_time_hrs = 1/6\n",
    "\n",
    "print('The NIM container processed and generated a total of %s tokens, costing ~$%s.' % (\n",
    "    (dfs['nim']['in_token_count'] + dfs['nim']['out_token_count']).sum(),\n",
    "    round(hourly_rate * utilization_rate * sim_time_hrs, 3)\n",
    "))"
   ]
  },
  {
   "cell_type": "markdown",
   "id": "58fa9722-d612-4a88-8014-dfe4619412fd",
   "metadata": {},
   "source": [
    "This is just meant to give you a rough sense of the cost dynamics. \n",
    "GPU utilization likely won't scale exactly linearly for your use cases, \n",
    "so only extrapolate within reason and make sure to test for yourself."
   ]
  }
 ],
 "metadata": {
  "kernelspec": {
   "display_name": "Python 3 (ipykernel)",
   "language": "python",
   "name": "python3"
  },
  "language_info": {
   "codemirror_mode": {
    "name": "ipython",
    "version": 3
   },
   "file_extension": ".py",
   "mimetype": "text/x-python",
   "name": "python",
   "nbconvert_exporter": "python",
   "pygments_lexer": "ipython3",
   "version": "3.12.3"
  }
 },
 "nbformat": 4,
 "nbformat_minor": 5
}
